{
 "cells": [
  {
   "cell_type": "markdown",
   "id": "d13bc7ad",
   "metadata": {},
   "source": [
    "### Tahap 1: Pemuatan Data dan Inisialisasi"
   ]
  },
  {
   "cell_type": "code",
   "execution_count": 1,
   "id": "c1c17612",
   "metadata": {},
   "outputs": [],
   "source": [
    "import pandas as pd\n",
    "import numpy as np\n",
    "import os\n",
    "import tensorflow as tf\n",
    "from sklearn.preprocessing import MinMaxScaler\n",
    "from sklearn.metrics import r2_score, mean_absolute_error\n",
    "from tensorflow.keras.models import Sequential\n",
    "from tensorflow.keras.layers import LSTM, Dense"
   ]
  },
  {
   "cell_type": "code",
   "execution_count": 3,
   "id": "a1297f4d",
   "metadata": {},
   "outputs": [
    {
     "name": "stdout",
     "output_type": "stream",
     "text": [
      "Data Latih dan Uji berhasil dimuat.\n",
      "Fitur yang akan digunakan: ['is_kelas', 'is_kantor', 'is_penelitian', 'avg_temp_previous_hour', 'jam', 'hari_minggu', 'hari_bulan', 'minggu_tahun', 'bulan', 'tahun', 'apakah_akhir_pekan', 'apakah_jam_kerja', 'konsumsi_lag_1_jam', 'konsumsi_lag_24_jam']\n"
     ]
    }
   ],
   "source": [
    "# --- Atur Path (Gunakan kode dari notebook 00 yang sudah direvisi) ---\n",
    "# BASE_DIR, PATH_SPLIT_DATA, PATH_PREDICTIONS, dll.\n",
    "\n",
    "# --- Muat Data ---\n",
    "path_split_data = r'C:\\MyFolder\\Git\\TA_SpatioTemporal\\Data\\split_data' # Path ke folder split_data\n",
    "train_df = pd.read_parquet(os.path.join(path_split_data, 'train_set.parquet'))\n",
    "test_df = pd.read_parquet(os.path.join(path_split_data, 'test_set.parquet'))\n",
    "\n",
    "# --- Definisikan Fitur dan Target ---\n",
    "TARGET = 'konsumsi_energi'\n",
    "# Hapus fitur non-numerik atau yang tidak relevan untuk LSTM (seperti 'apakah_akhir_pekan')\n",
    "FEATURES = [col for col in train_df.columns if col not in ['timestamp', 'meter_id', TARGET]]\n",
    "\n",
    "print(\"Data Latih dan Uji berhasil dimuat.\")\n",
    "print(\"Fitur yang akan digunakan:\", FEATURES)\n"
   ]
  },
  {
   "cell_type": "markdown",
   "id": "a12aa188",
   "metadata": {},
   "source": [
    "### Tahap 2: Pra-pemrosesan Data"
   ]
  },
  {
   "cell_type": "code",
   "execution_count": 4,
   "id": "bb174541",
   "metadata": {},
   "outputs": [
    {
     "name": "stdout",
     "output_type": "stream",
     "text": [
      "\n",
      "Memproses Data Latih...\n",
      "Memproses Data Uji...\n",
      "\n",
      "Bentuk data latih (X, y): (282555, 24, 14), (282555, 1)\n",
      "Bentuk data uji (X, y): (47541, 24, 14), (47541, 1)\n"
     ]
    }
   ],
   "source": [
    "# --- Konfigurasi LSTM ---\n",
    "N_PAST = 24 # Jumlah jam masa lalu yang digunakan untuk prediksi (contoh)\n",
    "N_FUTURE = 1 # Memprediksi 1 jam ke depan\n",
    "\n",
    "X_train, y_train = [], []\n",
    "X_test, y_test = [], []\n",
    "scalers = {} # Dictionary untuk menyimpan scaler untuk setiap gedung\n",
    "\n",
    "# --- Proses Data Latih ---\n",
    "print(\"\\nMemproses Data Latih...\")\n",
    "for meter_id, group in train_df.groupby('meter_id'):\n",
    "    # 1. Scaling: Fit dan transform HANYA pada data latih gedung ini\n",
    "    scaler = MinMaxScaler()\n",
    "    group_scaled = scaler.fit_transform(group[FEATURES + [TARGET]])\n",
    "    scalers[meter_id] = scaler # Simpan scaler untuk digunakan pada data uji nanti\n",
    "\n",
    "    # 2. Buat Sekuens\n",
    "    for i in range(N_PAST, len(group_scaled) - N_FUTURE + 1):\n",
    "        X_train.append(group_scaled[i - N_PAST:i, 0:len(FEATURES)])\n",
    "        y_train.append(group_scaled[i + N_FUTURE - 1:i + N_FUTURE, len(FEATURES)])\n",
    "\n",
    "# --- Proses Data Uji ---\n",
    "print(\"Memproses Data Uji...\")\n",
    "# Simpan indeks asli dari data uji untuk merekonstruksi hasil nanti\n",
    "test_indices = []\n",
    "for meter_id, group in test_df.groupby('meter_id'):\n",
    "    if meter_id in scalers:\n",
    "        # 1. Scaling: Gunakan scaler dari data latih (HANYA transform)\n",
    "        scaler = scalers[meter_id]\n",
    "        group_scaled = scaler.transform(group[FEATURES + [TARGET]])\n",
    "\n",
    "        # 2. Buat Sekuens\n",
    "        for i in range(N_PAST, len(group_scaled) - N_FUTURE + 1):\n",
    "            X_test.append(group_scaled[i - N_PAST:i, 0:len(FEATURES)])\n",
    "            y_test.append(group_scaled[i + N_FUTURE - 1:i + N_FUTURE, len(FEATURES)])\n",
    "            # Simpan indeks baris asli dari DataFrame test_df\n",
    "            test_indices.append(group.index[i + N_FUTURE - 1])\n",
    "\n",
    "X_train, y_train = np.array(X_train), np.array(y_train)\n",
    "X_test, y_test = np.array(X_test), np.array(y_test)\n",
    "\n",
    "print(f\"\\nBentuk data latih (X, y): {X_train.shape}, {y_train.shape}\")\n",
    "print(f\"Bentuk data uji (X, y): {X_test.shape}, {y_test.shape}\")\n"
   ]
  },
  {
   "cell_type": "markdown",
   "id": "02a2dffe",
   "metadata": {},
   "source": [
    "### Tahap 3: Pelatihan Model LSTM"
   ]
  },
  {
   "cell_type": "code",
   "execution_count": 5,
   "id": "0a59b9b3",
   "metadata": {},
   "outputs": [
    {
     "name": "stderr",
     "output_type": "stream",
     "text": [
      "c:\\Users\\Danu Hakim\\AppData\\Local\\Programs\\Python\\Python312\\Lib\\site-packages\\keras\\src\\layers\\rnn\\rnn.py:200: UserWarning: Do not pass an `input_shape`/`input_dim` argument to a layer. When using Sequential models, prefer using an `Input(shape)` object as the first layer in the model instead.\n",
      "  super().__init__(**kwargs)\n"
     ]
    },
    {
     "data": {
      "text/html": [
       "<pre style=\"white-space:pre;overflow-x:auto;line-height:normal;font-family:Menlo,'DejaVu Sans Mono',consolas,'Courier New',monospace\"><span style=\"font-weight: bold\">Model: \"sequential\"</span>\n",
       "</pre>\n"
      ],
      "text/plain": [
       "\u001b[1mModel: \"sequential\"\u001b[0m\n"
      ]
     },
     "metadata": {},
     "output_type": "display_data"
    },
    {
     "data": {
      "text/html": [
       "<pre style=\"white-space:pre;overflow-x:auto;line-height:normal;font-family:Menlo,'DejaVu Sans Mono',consolas,'Courier New',monospace\">┏━━━━━━━━━━━━━━━━━━━━━━━━━━━━━━━━━┳━━━━━━━━━━━━━━━━━━━━━━━━┳━━━━━━━━━━━━━━━┓\n",
       "┃<span style=\"font-weight: bold\"> Layer (type)                    </span>┃<span style=\"font-weight: bold\"> Output Shape           </span>┃<span style=\"font-weight: bold\">       Param # </span>┃\n",
       "┡━━━━━━━━━━━━━━━━━━━━━━━━━━━━━━━━━╇━━━━━━━━━━━━━━━━━━━━━━━━╇━━━━━━━━━━━━━━━┩\n",
       "│ lstm (<span style=\"color: #0087ff; text-decoration-color: #0087ff\">LSTM</span>)                     │ (<span style=\"color: #00d7ff; text-decoration-color: #00d7ff\">None</span>, <span style=\"color: #00af00; text-decoration-color: #00af00\">24</span>, <span style=\"color: #00af00; text-decoration-color: #00af00\">64</span>)         │        <span style=\"color: #00af00; text-decoration-color: #00af00\">20,224</span> │\n",
       "├─────────────────────────────────┼────────────────────────┼───────────────┤\n",
       "│ lstm_1 (<span style=\"color: #0087ff; text-decoration-color: #0087ff\">LSTM</span>)                   │ (<span style=\"color: #00d7ff; text-decoration-color: #00d7ff\">None</span>, <span style=\"color: #00af00; text-decoration-color: #00af00\">32</span>)             │        <span style=\"color: #00af00; text-decoration-color: #00af00\">12,416</span> │\n",
       "├─────────────────────────────────┼────────────────────────┼───────────────┤\n",
       "│ dense (<span style=\"color: #0087ff; text-decoration-color: #0087ff\">Dense</span>)                   │ (<span style=\"color: #00d7ff; text-decoration-color: #00d7ff\">None</span>, <span style=\"color: #00af00; text-decoration-color: #00af00\">1</span>)              │            <span style=\"color: #00af00; text-decoration-color: #00af00\">33</span> │\n",
       "└─────────────────────────────────┴────────────────────────┴───────────────┘\n",
       "</pre>\n"
      ],
      "text/plain": [
       "┏━━━━━━━━━━━━━━━━━━━━━━━━━━━━━━━━━┳━━━━━━━━━━━━━━━━━━━━━━━━┳━━━━━━━━━━━━━━━┓\n",
       "┃\u001b[1m \u001b[0m\u001b[1mLayer (type)                   \u001b[0m\u001b[1m \u001b[0m┃\u001b[1m \u001b[0m\u001b[1mOutput Shape          \u001b[0m\u001b[1m \u001b[0m┃\u001b[1m \u001b[0m\u001b[1m      Param #\u001b[0m\u001b[1m \u001b[0m┃\n",
       "┡━━━━━━━━━━━━━━━━━━━━━━━━━━━━━━━━━╇━━━━━━━━━━━━━━━━━━━━━━━━╇━━━━━━━━━━━━━━━┩\n",
       "│ lstm (\u001b[38;5;33mLSTM\u001b[0m)                     │ (\u001b[38;5;45mNone\u001b[0m, \u001b[38;5;34m24\u001b[0m, \u001b[38;5;34m64\u001b[0m)         │        \u001b[38;5;34m20,224\u001b[0m │\n",
       "├─────────────────────────────────┼────────────────────────┼───────────────┤\n",
       "│ lstm_1 (\u001b[38;5;33mLSTM\u001b[0m)                   │ (\u001b[38;5;45mNone\u001b[0m, \u001b[38;5;34m32\u001b[0m)             │        \u001b[38;5;34m12,416\u001b[0m │\n",
       "├─────────────────────────────────┼────────────────────────┼───────────────┤\n",
       "│ dense (\u001b[38;5;33mDense\u001b[0m)                   │ (\u001b[38;5;45mNone\u001b[0m, \u001b[38;5;34m1\u001b[0m)              │            \u001b[38;5;34m33\u001b[0m │\n",
       "└─────────────────────────────────┴────────────────────────┴───────────────┘\n"
      ]
     },
     "metadata": {},
     "output_type": "display_data"
    },
    {
     "data": {
      "text/html": [
       "<pre style=\"white-space:pre;overflow-x:auto;line-height:normal;font-family:Menlo,'DejaVu Sans Mono',consolas,'Courier New',monospace\"><span style=\"font-weight: bold\"> Total params: </span><span style=\"color: #00af00; text-decoration-color: #00af00\">32,673</span> (127.63 KB)\n",
       "</pre>\n"
      ],
      "text/plain": [
       "\u001b[1m Total params: \u001b[0m\u001b[38;5;34m32,673\u001b[0m (127.63 KB)\n"
      ]
     },
     "metadata": {},
     "output_type": "display_data"
    },
    {
     "data": {
      "text/html": [
       "<pre style=\"white-space:pre;overflow-x:auto;line-height:normal;font-family:Menlo,'DejaVu Sans Mono',consolas,'Courier New',monospace\"><span style=\"font-weight: bold\"> Trainable params: </span><span style=\"color: #00af00; text-decoration-color: #00af00\">32,673</span> (127.63 KB)\n",
       "</pre>\n"
      ],
      "text/plain": [
       "\u001b[1m Trainable params: \u001b[0m\u001b[38;5;34m32,673\u001b[0m (127.63 KB)\n"
      ]
     },
     "metadata": {},
     "output_type": "display_data"
    },
    {
     "data": {
      "text/html": [
       "<pre style=\"white-space:pre;overflow-x:auto;line-height:normal;font-family:Menlo,'DejaVu Sans Mono',consolas,'Courier New',monospace\"><span style=\"font-weight: bold\"> Non-trainable params: </span><span style=\"color: #00af00; text-decoration-color: #00af00\">0</span> (0.00 B)\n",
       "</pre>\n"
      ],
      "text/plain": [
       "\u001b[1m Non-trainable params: \u001b[0m\u001b[38;5;34m0\u001b[0m (0.00 B)\n"
      ]
     },
     "metadata": {},
     "output_type": "display_data"
    },
    {
     "name": "stdout",
     "output_type": "stream",
     "text": [
      "Epoch 1/10\n",
      "\u001b[1m7947/7947\u001b[0m \u001b[32m━━━━━━━━━━━━━━━━━━━━\u001b[0m\u001b[37m\u001b[0m \u001b[1m93s\u001b[0m 11ms/step - loss: 0.0068 - val_loss: 0.0042\n",
      "Epoch 2/10\n",
      "\u001b[1m7947/7947\u001b[0m \u001b[32m━━━━━━━━━━━━━━━━━━━━\u001b[0m\u001b[37m\u001b[0m \u001b[1m92s\u001b[0m 12ms/step - loss: 0.0036 - val_loss: 0.0040\n",
      "Epoch 3/10\n",
      "\u001b[1m7947/7947\u001b[0m \u001b[32m━━━━━━━━━━━━━━━━━━━━\u001b[0m\u001b[37m\u001b[0m \u001b[1m97s\u001b[0m 12ms/step - loss: 0.0034 - val_loss: 0.0039\n",
      "Epoch 4/10\n",
      "\u001b[1m7947/7947\u001b[0m \u001b[32m━━━━━━━━━━━━━━━━━━━━\u001b[0m\u001b[37m\u001b[0m \u001b[1m111s\u001b[0m 14ms/step - loss: 0.0033 - val_loss: 0.0042\n",
      "Epoch 5/10\n",
      "\u001b[1m7947/7947\u001b[0m \u001b[32m━━━━━━━━━━━━━━━━━━━━\u001b[0m\u001b[37m\u001b[0m \u001b[1m110s\u001b[0m 14ms/step - loss: 0.0032 - val_loss: 0.0045\n",
      "Epoch 6/10\n",
      "\u001b[1m7947/7947\u001b[0m \u001b[32m━━━━━━━━━━━━━━━━━━━━\u001b[0m\u001b[37m\u001b[0m \u001b[1m111s\u001b[0m 14ms/step - loss: 0.0032 - val_loss: 0.0045\n",
      "Epoch 7/10\n",
      "\u001b[1m7947/7947\u001b[0m \u001b[32m━━━━━━━━━━━━━━━━━━━━\u001b[0m\u001b[37m\u001b[0m \u001b[1m112s\u001b[0m 14ms/step - loss: 0.0031 - val_loss: 0.0040\n",
      "Epoch 8/10\n",
      "\u001b[1m7947/7947\u001b[0m \u001b[32m━━━━━━━━━━━━━━━━━━━━\u001b[0m\u001b[37m\u001b[0m \u001b[1m114s\u001b[0m 14ms/step - loss: 0.0031 - val_loss: 0.0038\n",
      "Epoch 9/10\n",
      "\u001b[1m7947/7947\u001b[0m \u001b[32m━━━━━━━━━━━━━━━━━━━━\u001b[0m\u001b[37m\u001b[0m \u001b[1m113s\u001b[0m 14ms/step - loss: 0.0030 - val_loss: 0.0040\n",
      "Epoch 10/10\n",
      "\u001b[1m7947/7947\u001b[0m \u001b[32m━━━━━━━━━━━━━━━━━━━━\u001b[0m\u001b[37m\u001b[0m \u001b[1m113s\u001b[0m 14ms/step - loss: 0.0030 - val_loss: 0.0044\n"
     ]
    }
   ],
   "source": [
    "# --- Bangun Arsitektur Model ---\n",
    "model = Sequential()\n",
    "model.add(LSTM(64, activation='relu', input_shape=(X_train.shape[1], X_train.shape[2]), return_sequences=True))\n",
    "model.add(LSTM(32, activation='relu', return_sequences=False))\n",
    "model.add(Dense(y_train.shape[1]))\n",
    "\n",
    "model.compile(optimizer='adam', loss='mse')\n",
    "model.summary()\n",
    "\n",
    "# --- Latih Model ---\n",
    "history = model.fit(X_train, y_train, epochs=10, batch_size=32, validation_split=0.1, verbose=1)\n"
   ]
  },
  {
   "cell_type": "markdown",
   "id": "01f12377",
   "metadata": {},
   "source": [
    "### Tahap 4: Prediksi dan Rekonstruksi Hasil (Paling Kritis)"
   ]
  },
  {
   "cell_type": "code",
   "execution_count": 7,
   "id": "67728454",
   "metadata": {},
   "outputs": [
    {
     "name": "stdout",
     "output_type": "stream",
     "text": [
      "\u001b[1m1486/1486\u001b[0m \u001b[32m━━━━━━━━━━━━━━━━━━━━\u001b[0m\u001b[37m\u001b[0m \u001b[1m6s\u001b[0m 4ms/step\n",
      "\n",
      "Evaluasi Final yang Konsisten:\n",
      "MAE: 2.4840\n",
      "R-squared (R²): 0.9579\n",
      "\n",
      "DataFrame hasil LSTM yang sudah sejajar berhasil disimpan.\n"
     ]
    }
   ],
   "source": [
    "# --- Lakukan Prediksi ---\n",
    "predictions_scaled = model.predict(X_test)\n",
    "\n",
    "# --- Buat DataFrame Hasil yang Solid ---\n",
    "# 1. Gunakan indeks yang sudah kita simpan untuk memastikan kesejajaran\n",
    "df_hasil = test_df.loc[test_indices].copy()\n",
    "\n",
    "# 2. Siapkan array untuk hasil yang sudah di-inverse-transform\n",
    "y_pred_inversed = np.array([])\n",
    "y_test_inversed = np.array([])\n",
    "\n",
    "# 3. Lakukan inverse transform per gedung\n",
    "for meter_id, group in df_hasil.groupby('meter_id'):\n",
    "    if meter_id in scalers:\n",
    "        # Ambil indeks baris untuk gedung ini\n",
    "        group_indices = group.index\n",
    "        \n",
    "        # Cari posisi prediksi yang sesuai dengan indeks ini\n",
    "        posisi = [test_indices.index(i) for i in group_indices]\n",
    "\n",
    "        # Ambil prediksi dan nilai aktual yang relevan\n",
    "        preds_scaled_group = predictions_scaled[posisi]\n",
    "        test_scaled_group = y_test[posisi]\n",
    "        \n",
    "        # Buat dummy array untuk inverse transform\n",
    "        dummy_pred = np.zeros((len(preds_scaled_group), len(FEATURES) + 1))\n",
    "        dummy_pred[:, -1] = preds_scaled_group.ravel()\n",
    "        \n",
    "        dummy_test = np.zeros((len(test_scaled_group), len(FEATURES) + 1))\n",
    "        dummy_test[:, -1] = test_scaled_group.ravel()\n",
    "\n",
    "        # Inverse transform\n",
    "        inversed_preds = scalers[meter_id].inverse_transform(dummy_pred)[:, -1]\n",
    "        inversed_tests = scalers[meter_id].inverse_transform(dummy_test)[:, -1]\n",
    "        \n",
    "        # Tambahkan ke array hasil total\n",
    "        y_pred_inversed = np.append(y_pred_inversed, inversed_preds)\n",
    "        y_test_inversed = np.append(y_test_inversed, inversed_tests)\n",
    "\n",
    "# 4. Tambahkan kolom hasil ke DataFrame\n",
    "df_hasil['prediksi_lstm'] = y_pred_inversed\n",
    "df_hasil.rename(columns={TARGET: 'target_aktual'}, inplace=True)\n",
    "\n",
    "# --- Evaluasi Akhir (Sekarang Seharusnya Konsisten) ---\n",
    "mae = mean_absolute_error(df_hasil['target_aktual'], df_hasil['prediksi_lstm'])\n",
    "r2 = r2_score(df_hasil['target_aktual'], df_hasil['prediksi_lstm'])\n",
    "print(f\"\\nEvaluasi Final yang Konsisten:\")\n",
    "print(f\"MAE: {mae:.4f}\")\n",
    "print(f\"R-squared (R²): {r2:.4f}\")\n",
    "\n",
    "# --- Simpan Hasil yang Sudah Benar ---\n",
    "path_prediksi = r'C:\\MyFolder\\Git\\TA_SpatioTemporal\\Data\\predictions' # Path ke folder predictions\n",
    "df_hasil[['timestamp', 'meter_id', 'target_aktual', 'prediksi_lstm']].to_parquet(\n",
    "    os.path.join(path_prediksi, 'lstm_results_revised.parquet'), index=False\n",
    ")\n",
    "print(\"\\nDataFrame hasil LSTM yang sudah sejajar berhasil disimpan.\")\n"
   ]
  },
  {
   "cell_type": "markdown",
   "id": "515d782f",
   "metadata": {},
   "source": []
  },
  {
   "cell_type": "markdown",
   "id": "45c08dcc",
   "metadata": {},
   "source": []
  },
  {
   "cell_type": "markdown",
   "id": "a3690d1d",
   "metadata": {},
   "source": []
  },
  {
   "cell_type": "markdown",
   "id": "bbeaebd3",
   "metadata": {},
   "source": [
    "# Old"
   ]
  },
  {
   "cell_type": "markdown",
   "id": "914cde9f",
   "metadata": {},
   "source": [
    "## Pembagian Data dan Pelatihan Model LSTM"
   ]
  },
  {
   "cell_type": "code",
   "execution_count": 15,
   "id": "35dfb459",
   "metadata": {},
   "outputs": [
    {
     "data": {
      "text/html": [
       "<pre style=\"white-space:pre;overflow-x:auto;line-height:normal;font-family:Menlo,'DejaVu Sans Mono',consolas,'Courier New',monospace\"><span style=\"font-weight: bold\">Model: \"sequential_1\"</span>\n",
       "</pre>\n"
      ],
      "text/plain": [
       "\u001b[1mModel: \"sequential_1\"\u001b[0m\n"
      ]
     },
     "metadata": {},
     "output_type": "display_data"
    },
    {
     "data": {
      "text/html": [
       "<pre style=\"white-space:pre;overflow-x:auto;line-height:normal;font-family:Menlo,'DejaVu Sans Mono',consolas,'Courier New',monospace\">┏━━━━━━━━━━━━━━━━━━━━━━━━━━━━━━━━━┳━━━━━━━━━━━━━━━━━━━━━━━━┳━━━━━━━━━━━━━━━┓\n",
       "┃<span style=\"font-weight: bold\"> Layer (type)                    </span>┃<span style=\"font-weight: bold\"> Output Shape           </span>┃<span style=\"font-weight: bold\">       Param # </span>┃\n",
       "┡━━━━━━━━━━━━━━━━━━━━━━━━━━━━━━━━━╇━━━━━━━━━━━━━━━━━━━━━━━━╇━━━━━━━━━━━━━━━┩\n",
       "│ lstm_1 (<span style=\"color: #0087ff; text-decoration-color: #0087ff\">LSTM</span>)                   │ (<span style=\"color: #00d7ff; text-decoration-color: #00d7ff\">None</span>, <span style=\"color: #00af00; text-decoration-color: #00af00\">50</span>)             │        <span style=\"color: #00af00; text-decoration-color: #00af00\">11,600</span> │\n",
       "├─────────────────────────────────┼────────────────────────┼───────────────┤\n",
       "│ dense_1 (<span style=\"color: #0087ff; text-decoration-color: #0087ff\">Dense</span>)                 │ (<span style=\"color: #00d7ff; text-decoration-color: #00d7ff\">None</span>, <span style=\"color: #00af00; text-decoration-color: #00af00\">1</span>)              │            <span style=\"color: #00af00; text-decoration-color: #00af00\">51</span> │\n",
       "└─────────────────────────────────┴────────────────────────┴───────────────┘\n",
       "</pre>\n"
      ],
      "text/plain": [
       "┏━━━━━━━━━━━━━━━━━━━━━━━━━━━━━━━━━┳━━━━━━━━━━━━━━━━━━━━━━━━┳━━━━━━━━━━━━━━━┓\n",
       "┃\u001b[1m \u001b[0m\u001b[1mLayer (type)                   \u001b[0m\u001b[1m \u001b[0m┃\u001b[1m \u001b[0m\u001b[1mOutput Shape          \u001b[0m\u001b[1m \u001b[0m┃\u001b[1m \u001b[0m\u001b[1m      Param #\u001b[0m\u001b[1m \u001b[0m┃\n",
       "┡━━━━━━━━━━━━━━━━━━━━━━━━━━━━━━━━━╇━━━━━━━━━━━━━━━━━━━━━━━━╇━━━━━━━━━━━━━━━┩\n",
       "│ lstm_1 (\u001b[38;5;33mLSTM\u001b[0m)                   │ (\u001b[38;5;45mNone\u001b[0m, \u001b[38;5;34m50\u001b[0m)             │        \u001b[38;5;34m11,600\u001b[0m │\n",
       "├─────────────────────────────────┼────────────────────────┼───────────────┤\n",
       "│ dense_1 (\u001b[38;5;33mDense\u001b[0m)                 │ (\u001b[38;5;45mNone\u001b[0m, \u001b[38;5;34m1\u001b[0m)              │            \u001b[38;5;34m51\u001b[0m │\n",
       "└─────────────────────────────────┴────────────────────────┴───────────────┘\n"
      ]
     },
     "metadata": {},
     "output_type": "display_data"
    },
    {
     "data": {
      "text/html": [
       "<pre style=\"white-space:pre;overflow-x:auto;line-height:normal;font-family:Menlo,'DejaVu Sans Mono',consolas,'Courier New',monospace\"><span style=\"font-weight: bold\"> Total params: </span><span style=\"color: #00af00; text-decoration-color: #00af00\">11,651</span> (45.51 KB)\n",
       "</pre>\n"
      ],
      "text/plain": [
       "\u001b[1m Total params: \u001b[0m\u001b[38;5;34m11,651\u001b[0m (45.51 KB)\n"
      ]
     },
     "metadata": {},
     "output_type": "display_data"
    },
    {
     "data": {
      "text/html": [
       "<pre style=\"white-space:pre;overflow-x:auto;line-height:normal;font-family:Menlo,'DejaVu Sans Mono',consolas,'Courier New',monospace\"><span style=\"font-weight: bold\"> Trainable params: </span><span style=\"color: #00af00; text-decoration-color: #00af00\">11,651</span> (45.51 KB)\n",
       "</pre>\n"
      ],
      "text/plain": [
       "\u001b[1m Trainable params: \u001b[0m\u001b[38;5;34m11,651\u001b[0m (45.51 KB)\n"
      ]
     },
     "metadata": {},
     "output_type": "display_data"
    },
    {
     "data": {
      "text/html": [
       "<pre style=\"white-space:pre;overflow-x:auto;line-height:normal;font-family:Menlo,'DejaVu Sans Mono',consolas,'Courier New',monospace\"><span style=\"font-weight: bold\"> Non-trainable params: </span><span style=\"color: #00af00; text-decoration-color: #00af00\">0</span> (0.00 B)\n",
       "</pre>\n"
      ],
      "text/plain": [
       "\u001b[1m Non-trainable params: \u001b[0m\u001b[38;5;34m0\u001b[0m (0.00 B)\n"
      ]
     },
     "metadata": {},
     "output_type": "display_data"
    },
    {
     "name": "stdout",
     "output_type": "stream",
     "text": [
      "\n",
      "Mulai melatih model LSTM...\n",
      "Epoch 1/20\n",
      "\u001b[1m7947/7947\u001b[0m \u001b[32m━━━━━━━━━━━━━━━━━━━━\u001b[0m\u001b[37m\u001b[0m \u001b[1m54s\u001b[0m 7ms/step - loss: 4.3235e-04 - val_loss: 1.8621e-04\n",
      "Epoch 2/20\n",
      "\u001b[1m7947/7947\u001b[0m \u001b[32m━━━━━━━━━━━━━━━━━━━━\u001b[0m\u001b[37m\u001b[0m \u001b[1m50s\u001b[0m 6ms/step - loss: 1.5900e-04 - val_loss: 1.4187e-04\n",
      "Epoch 3/20\n",
      "\u001b[1m7947/7947\u001b[0m \u001b[32m━━━━━━━━━━━━━━━━━━━━\u001b[0m\u001b[37m\u001b[0m \u001b[1m49s\u001b[0m 6ms/step - loss: 1.4609e-04 - val_loss: 1.2790e-04\n",
      "Epoch 4/20\n",
      "\u001b[1m7947/7947\u001b[0m \u001b[32m━━━━━━━━━━━━━━━━━━━━\u001b[0m\u001b[37m\u001b[0m \u001b[1m53s\u001b[0m 7ms/step - loss: 1.4050e-04 - val_loss: 1.2294e-04\n",
      "Epoch 5/20\n",
      "\u001b[1m7947/7947\u001b[0m \u001b[32m━━━━━━━━━━━━━━━━━━━━\u001b[0m\u001b[37m\u001b[0m \u001b[1m58s\u001b[0m 7ms/step - loss: 1.3823e-04 - val_loss: 1.2655e-04\n",
      "Epoch 6/20\n",
      "\u001b[1m7947/7947\u001b[0m \u001b[32m━━━━━━━━━━━━━━━━━━━━\u001b[0m\u001b[37m\u001b[0m \u001b[1m53s\u001b[0m 7ms/step - loss: 1.3439e-04 - val_loss: 1.2364e-04\n",
      "Epoch 7/20\n",
      "\u001b[1m7947/7947\u001b[0m \u001b[32m━━━━━━━━━━━━━━━━━━━━\u001b[0m\u001b[37m\u001b[0m \u001b[1m52s\u001b[0m 7ms/step - loss: 1.3031e-04 - val_loss: 1.2075e-04\n",
      "Epoch 8/20\n",
      "\u001b[1m7947/7947\u001b[0m \u001b[32m━━━━━━━━━━━━━━━━━━━━\u001b[0m\u001b[37m\u001b[0m \u001b[1m53s\u001b[0m 7ms/step - loss: 1.2736e-04 - val_loss: 1.3150e-04\n",
      "Epoch 9/20\n",
      "\u001b[1m7947/7947\u001b[0m \u001b[32m━━━━━━━━━━━━━━━━━━━━\u001b[0m\u001b[37m\u001b[0m \u001b[1m55s\u001b[0m 7ms/step - loss: 1.2921e-04 - val_loss: 1.1974e-04\n",
      "Epoch 10/20\n",
      "\u001b[1m7947/7947\u001b[0m \u001b[32m━━━━━━━━━━━━━━━━━━━━\u001b[0m\u001b[37m\u001b[0m \u001b[1m53s\u001b[0m 7ms/step - loss: 1.2302e-04 - val_loss: 1.1668e-04\n",
      "Epoch 11/20\n",
      "\u001b[1m7947/7947\u001b[0m \u001b[32m━━━━━━━━━━━━━━━━━━━━\u001b[0m\u001b[37m\u001b[0m \u001b[1m57s\u001b[0m 7ms/step - loss: 1.2230e-04 - val_loss: 1.2128e-04\n",
      "Epoch 12/20\n",
      "\u001b[1m7947/7947\u001b[0m \u001b[32m━━━━━━━━━━━━━━━━━━━━\u001b[0m\u001b[37m\u001b[0m \u001b[1m53s\u001b[0m 7ms/step - loss: 1.2285e-04 - val_loss: 1.1597e-04\n",
      "Epoch 13/20\n",
      "\u001b[1m7947/7947\u001b[0m \u001b[32m━━━━━━━━━━━━━━━━━━━━\u001b[0m\u001b[37m\u001b[0m \u001b[1m56s\u001b[0m 7ms/step - loss: 1.1927e-04 - val_loss: 1.2082e-04\n",
      "Epoch 14/20\n",
      "\u001b[1m7947/7947\u001b[0m \u001b[32m━━━━━━━━━━━━━━━━━━━━\u001b[0m\u001b[37m\u001b[0m \u001b[1m53s\u001b[0m 7ms/step - loss: 1.2272e-04 - val_loss: 1.2068e-04\n",
      "Epoch 15/20\n",
      "\u001b[1m7947/7947\u001b[0m \u001b[32m━━━━━━━━━━━━━━━━━━━━\u001b[0m\u001b[37m\u001b[0m \u001b[1m55s\u001b[0m 7ms/step - loss: 1.1623e-04 - val_loss: 1.2079e-04\n",
      "Epoch 16/20\n",
      "\u001b[1m7947/7947\u001b[0m \u001b[32m━━━━━━━━━━━━━━━━━━━━\u001b[0m\u001b[37m\u001b[0m \u001b[1m65s\u001b[0m 8ms/step - loss: 1.1554e-04 - val_loss: 1.2639e-04\n",
      "Epoch 17/20\n",
      "\u001b[1m7947/7947\u001b[0m \u001b[32m━━━━━━━━━━━━━━━━━━━━\u001b[0m\u001b[37m\u001b[0m \u001b[1m65s\u001b[0m 8ms/step - loss: 1.2160e-04 - val_loss: 1.1446e-04\n",
      "Epoch 18/20\n",
      "\u001b[1m7947/7947\u001b[0m \u001b[32m━━━━━━━━━━━━━━━━━━━━\u001b[0m\u001b[37m\u001b[0m \u001b[1m62s\u001b[0m 8ms/step - loss: 1.1866e-04 - val_loss: 1.1894e-04\n",
      "Epoch 19/20\n",
      "\u001b[1m7947/7947\u001b[0m \u001b[32m━━━━━━━━━━━━━━━━━━━━\u001b[0m\u001b[37m\u001b[0m \u001b[1m65s\u001b[0m 8ms/step - loss: 1.1840e-04 - val_loss: 1.2307e-04\n",
      "Epoch 20/20\n",
      "\u001b[1m7947/7947\u001b[0m \u001b[32m━━━━━━━━━━━━━━━━━━━━\u001b[0m\u001b[37m\u001b[0m \u001b[1m63s\u001b[0m 8ms/step - loss: 1.1550e-04 - val_loss: 1.1451e-04\n",
      "\n",
      "Model LSTM berhasil dilatih!\n"
     ]
    }
   ],
   "source": [
    "# --- 2. Membangun Arsitektur Model LSTM ---\n",
    "model_lstm = Sequential([\n",
    "    # Input layer harus tahu bentuk data kita: (jam ke belakang, jumlah fitur)\n",
    "    Input(shape=(X_train.shape[1], X_train.shape[2])),\n",
    "    # Layer LSTM dengan 50 unit memori\n",
    "    LSTM(50, activation='relu'),\n",
    "    # Output layer dengan 1 neuron untuk memprediksi 1 nilai (konsumsi_energi)\n",
    "    Dense(1)\n",
    "])\n",
    "\n",
    "# Compile model\n",
    "model_lstm.compile(optimizer='adam', loss='mse')\n",
    "model_lstm.summary()\n",
    "\n",
    "# --- 3. Melatih Model ---\n",
    "print(\"\\nMulai melatih model LSTM...\")\n",
    "history = model_lstm.fit(\n",
    "    X_train, y_train,\n",
    "    epochs=20,  # Jumlah iterasi pelatihan\n",
    "    batch_size=32,\n",
    "    validation_split=0.1, # Gunakan 10% data latih untuk validasi internal\n",
    "    verbose=1\n",
    ")\n",
    "print(\"\\nModel LSTM berhasil dilatih!\")\n"
   ]
  },
  {
   "cell_type": "markdown",
   "id": "4049c330",
   "metadata": {},
   "source": [
    "## C: Evaluasi Kinerja Model LSTM"
   ]
  },
  {
   "cell_type": "code",
   "execution_count": 16,
   "id": "b7dbfa8b",
   "metadata": {},
   "outputs": [
    {
     "name": "stdout",
     "output_type": "stream",
     "text": [
      "\u001b[1m1486/1486\u001b[0m \u001b[32m━━━━━━━━━━━━━━━━━━━━\u001b[0m\u001b[37m\u001b[0m \u001b[1m4s\u001b[0m 2ms/step\n",
      "\n",
      "--- Hasil Evaluasi Model LSTM ---\n",
      "Mean Absolute Error (MAE): 1.67\n",
      "Root Mean Square Error (RMSE): 3.90\n",
      "Symmetric Mean Absolute Percentage Error (sMAPE): 21.27%\n",
      "R-squared (R²): 0.98\n"
     ]
    }
   ],
   "source": [
    "# --- 1. Membuat Prediksi ---\n",
    "predictions_scaled = model_lstm.predict(X_test)\n",
    "\n",
    "# --- 2. Inverse Transform (Mengembalikan ke Skala Asli) ---\n",
    "# Kita harus membuat \"dummy array\" dengan bentuk yang sama seperti saat kita melakukan fit_transform\n",
    "# agar bisa mengembalikan hanya kolom target kita.\n",
    "dummy_array_pred = np.zeros((len(predictions_scaled), len(FEATURES)))\n",
    "dummy_array_pred[:, 0] = predictions_scaled.flatten()\n",
    "predictions_inversed = scaler.inverse_transform(dummy_array_pred)[:, 0]\n",
    "\n",
    "dummy_array_true = np.zeros((len(y_test), len(FEATURES)))\n",
    "dummy_array_true[:, 0] = y_test.flatten()\n",
    "y_test_inversed = scaler.inverse_transform(dummy_array_true)[:, 0]\n",
    "\n",
    "# --- 3. Hitung Metrik Evaluasi pada Data Asli ---\n",
    "def calculate_smape(y_true, y_pred):\n",
    "    y_true, y_pred = np.array(y_true), np.array(y_pred)\n",
    "    numerator = np.abs(y_pred - y_true)\n",
    "    denominator = (np.abs(y_true) + np.abs(y_pred)) / 2\n",
    "    ratio = np.divide(numerator, denominator, out=np.zeros_like(denominator), where=denominator!=0)\n",
    "    return np.mean(ratio) * 100\n",
    "\n",
    "mae_lstm = mean_absolute_error(y_test_inversed, predictions_inversed)\n",
    "rmse_lstm = np.sqrt(mean_squared_error(y_test_inversed, predictions_inversed))\n",
    "r2_lstm = r2_score(y_test_inversed, predictions_inversed)\n",
    "smape_lstm = calculate_smape(y_test_inversed, predictions_inversed)\n",
    "\n",
    "print(\"\\n--- Hasil Evaluasi Model LSTM ---\")\n",
    "print(f\"Mean Absolute Error (MAE): {mae_lstm:.2f}\")\n",
    "print(f\"Root Mean Square Error (RMSE): {rmse_lstm:.2f}\")\n",
    "print(f\"Symmetric Mean Absolute Percentage Error (sMAPE): {smape_lstm:.2f}%\")\n",
    "print(f\"R-squared (R²): {r2_lstm:.2f}\")\n"
   ]
  },
  {
   "cell_type": "code",
   "execution_count": null,
   "id": "2ae3f6c9",
   "metadata": {},
   "outputs": [
    {
     "name": "stdout",
     "output_type": "stream",
     "text": [
      "Menyimpan prediksi LSTM...\n",
      "\n",
      "Berhasil menyimpan prediksi LSTM.\n"
     ]
    }
   ],
   "source": [
    "# # simpan hasil prediksi ke file\n",
    "# import os\n",
    "# # Definisikan path untuk menyimpan file\n",
    "# path_output = r'C:\\MyFolder\\Git\\TA_SpatioTemporal\\Data\\predictions'\n",
    "# os.makedirs(path_output, exist_ok=True) # Membuat folder jika belum ada\n",
    "\n",
    "# # Variabel yang perlu disimpan adalah 'predictions_inversed'\n",
    "# print(\"Menyimpan prediksi LSTM...\")\n",
    "# df_pred_lstm = pd.DataFrame({'prediksi_lstm': predictions_inversed})\n",
    "# df_pred_lstm.to_parquet(os.path.join(path_output, 'lstm_predictions.parquet'), index=False)\n",
    "\n",
    "# print(\"\\nBerhasil menyimpan prediksi LSTM.\")\n"
   ]
  },
  {
   "cell_type": "code",
   "execution_count": 18,
   "id": "1cb82a53",
   "metadata": {},
   "outputs": [
    {
     "name": "stdout",
     "output_type": "stream",
     "text": [
      "\n",
      "Berhasil menyimpan hasil lengkap LSTM (termasuk data aktual dan prediksi).\n"
     ]
    }
   ],
   "source": [
    "# --- Tambahkan kode ini di akhir notebook LSTM ---\n",
    "\n",
    "# Definisikan path untuk menyimpan file\n",
    "path_output = r'C:\\MyFolder\\Git\\TA_SpatioTemporal\\Data\\predictions'\n",
    "os.makedirs(path_output, exist_ok=True) # Membuat folder jika belum ada\n",
    "\n",
    "# Kita perlu membangun kembali DataFrame yang sesuai dengan hasil prediksi LSTM.\n",
    "# Variabel yang kita butuhkan (sudah ada di notebook LSTM Anda):\n",
    "# - df_lstm_input: DataFrame sebelum diubah menjadi sekuens.\n",
    "# - predictions_inversed: Hasil prediksi dalam skala asli.\n",
    "# - y_test_inversed: Nilai aktual dalam skala asli.\n",
    "\n",
    "# 1. Tentukan panjang hasil prediksi\n",
    "panjang_prediksi_lstm = len(predictions_inversed)\n",
    "\n",
    "# 2. Ambil baris terakhir dari DataFrame *sebelum* diubah menjadi sekuens,\n",
    "#    yang sesuai dengan data uji kita.\n",
    "df_test_asli = df_lstm_input.iloc[-panjang_prediksi_lstm:].copy()\n",
    "\n",
    "# 3. Buat DataFrame hasil untuk LSTM\n",
    "results_lstm = df_test_asli.copy()\n",
    "# Tambahkan nilai aktual dan prediksi yang sudah dikembalikan ke skala aslinya\n",
    "results_lstm['target_aktual'] = y_test_inversed\n",
    "results_lstm['prediksi_lstm'] = predictions_inversed\n",
    "\n",
    "# Simpan DataFrame hasil yang sudah lengkap\n",
    "results_lstm.to_parquet(os.path.join(path_output, 'lstm_results.parquet'), index=False)\n",
    "\n",
    "print(\"\\nBerhasil menyimpan hasil lengkap LSTM (termasuk data aktual dan prediksi).\")\n"
   ]
  }
 ],
 "metadata": {
  "kernelspec": {
   "display_name": "Python 3",
   "language": "python",
   "name": "python3"
  },
  "language_info": {
   "codemirror_mode": {
    "name": "ipython",
    "version": 3
   },
   "file_extension": ".py",
   "mimetype": "text/x-python",
   "name": "python",
   "nbconvert_exporter": "python",
   "pygments_lexer": "ipython3",
   "version": "3.12.5"
  }
 },
 "nbformat": 4,
 "nbformat_minor": 5
}
