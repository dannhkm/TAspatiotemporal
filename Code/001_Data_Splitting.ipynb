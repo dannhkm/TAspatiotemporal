{
 "cells": [
  {
   "cell_type": "code",
   "execution_count": 2,
   "id": "e070c15e",
   "metadata": {},
   "outputs": [
    {
     "name": "stdout",
     "output_type": "stream",
     "text": [
      "Berhasil membuat dan menyimpan train_set dan test_set.\n",
      "Jumlah data Latih: 283491\n",
      "Jumlah data Uji: 48477\n"
     ]
    }
   ],
   "source": [
    "import pandas as pd\n",
    "import os\n",
    "\n",
    "# --- 1. Konfigurasi ---\n",
    "path_fitur = r'C:\\MyFolder\\Git\\TA_SpatioTemporal\\Data\\parquet\\dataset_final_features_energi_suhu.parquet'\n",
    "path_output = r'C:\\MyFolder\\Git\\TA_SpatioTemporal\\Data\\split_data'\n",
    "os.makedirs(path_output, exist_ok=True) # Membuat folder jika belum ada\n",
    "\n",
    "# Tanggal pemisah\n",
    "split_date = '2025-04-01'\n",
    "\n",
    "# --- 2. Memuat dan Membagi Data ---\n",
    "df = pd.read_parquet(path_fitur)\n",
    "df.dropna(inplace=True)\n",
    "\n",
    "train_set = df[df['timestamp'] < split_date]\n",
    "test_set = df[df['timestamp'] >= split_date]\n",
    "\n",
    "# --- 3. Menyimpan Hasil ---\n",
    "train_set.to_parquet(os.path.join(path_output, 'train_set.parquet'), index=False)\n",
    "test_set.to_parquet(os.path.join(path_output, 'test_set.parquet'), index=False)\n",
    "\n",
    "print(\"Berhasil membuat dan menyimpan train_set dan test_set.\")\n",
    "print(f\"Jumlah data Latih: {len(train_set)}\")\n",
    "print(f\"Jumlah data Uji: {len(test_set)}\")\n"
   ]
  }
 ],
 "metadata": {
  "kernelspec": {
   "display_name": "Python 3",
   "language": "python",
   "name": "python3"
  },
  "language_info": {
   "codemirror_mode": {
    "name": "ipython",
    "version": 3
   },
   "file_extension": ".py",
   "mimetype": "text/x-python",
   "name": "python",
   "nbconvert_exporter": "python",
   "pygments_lexer": "ipython3",
   "version": "3.12.5"
  }
 },
 "nbformat": 4,
 "nbformat_minor": 5
}
